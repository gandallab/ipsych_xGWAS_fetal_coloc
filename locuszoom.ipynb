{
 "cells": [
  {
   "cell_type": "markdown",
   "id": "8a1e33db",
   "metadata": {},
   "source": [
    "# Loci visualization\n",
    "Uses GeneticsMakie.jl to produce LocusZoom style plots"
   ]
  },
  {
   "cell_type": "code",
   "execution_count": 1,
   "id": "fc31a5e1",
   "metadata": {},
   "outputs": [],
   "source": [
    "using CairoMakie, Colors, CSV, DataFrames, SnpArrays\n",
    "import GeneticsMakie as GM"
   ]
  },
  {
   "cell_type": "code",
   "execution_count": 2,
   "id": "dba3c5c7",
   "metadata": {},
   "outputs": [],
   "source": [
    "gencodefilename = \"/u/project/gandalm/shared/refGenomes/hg19/Gencode/v33/gencode.v33lift37.annotation.gtf\"\n",
    "gencode = CSV.read(gencodefilename, DataFrame; delim = '\\t', comment = \"#\", \n",
    "                                        header = [\"seqnames\", \"source\", \"feature\", \n",
    "                                                  \"start\", \"end\", \"score\", \"strand\", \n",
    "                                                  \"phase\", \"info\"])\n",
    "GM.parsegtf!(gencode)"
   ]
  },
  {
   "cell_type": "code",
   "execution_count": 3,
   "id": "6a6ee482",
   "metadata": {},
   "outputs": [],
   "source": [
    "sumstatsfilename = \"/u/project/gandalm/cindywen/ipsych_gwas/data/sumstats_filtered/iPSYCH2015_EUR_ADHD.assoc\"\n",
    "sumstats = CSV.read(sumstatsfilename, DataFrame)\n",
    "GM.mungesumstats!(sumstats)"
   ]
  },
  {
   "cell_type": "code",
   "execution_count": 5,
   "id": "467c8939",
   "metadata": {},
   "outputs": [],
   "source": [
    "# gencode"
   ]
  },
  {
   "cell_type": "code",
   "execution_count": 7,
   "id": "c00d13d2",
   "metadata": {},
   "outputs": [],
   "source": [
    "# sumstats"
   ]
  },
  {
   "cell_type": "code",
   "execution_count": 8,
   "id": "8df5ce25",
   "metadata": {},
   "outputs": [
    {
     "data": {
      "text/plain": [
       "SnpData(people: 629, snps: 8420206,\n",
       "snp_info: \n",
       " Row │ chromosome  snpid        genetic_distance  position  allele1  allele2\n",
       "     │ String      String       Float64           Int64     String   String\n",
       "─────┼───────────────────────────────────────────────────────────────────────\n",
       "   1 │ 1           rs61769339                0.0    662622  A        G\n",
       "   2 │ 1           rs200188737               0.0    666249  T        C\n",
       "   3 │ 1           rs12238997                0.0    693731  G        A\n",
       "   4 │ 1           rs61769351                0.0    693823  C        G\n",
       "   5 │ 1           rs142559957               0.0    704637  A        G\n",
       "   6 │ 1           rs142576295               0.0    708075  G        A\n",
       "…,\n",
       "person_info: \n",
       " Row │ fid        iid        father     mother     sex        phenotype\n",
       "     │ Abstract…  Abstract…  Abstract…  Abstract…  Abstract…  Abstract…\n",
       "─────┼──────────────────────────────────────────────────────────────────\n",
       "   1 │ 0          849        0          0          0          -9\n",
       "   2 │ 0          898        0          0          0          -9\n",
       "   3 │ 0          1038       0          0          0          -9\n",
       "   4 │ 0          1039       0          0          0          -9\n",
       "   5 │ 0          1046       0          0          0          -9\n",
       "   6 │ 0          1102       0          0          0          -9\n",
       "…,\n",
       "srcbed: /u/project/gandalm/cindywen/isoform_twas/genotype/all_data/isec_R2_greater_than_3/ancestry/test.bed\n",
       "srcbim: /u/project/gandalm/cindywen/isoform_twas/genotype/all_data/isec_R2_greater_than_3/ancestry/test.bim\n",
       "srcfam: /u/project/gandalm/cindywen/isoform_twas/genotype/all_data/isec_R2_greater_than_3/ancestry/test.fam\n",
       ")"
      ]
     },
     "execution_count": 8,
     "metadata": {},
     "output_type": "execute_result"
    }
   ],
   "source": [
    "ld = SnpData(\"/u/project/gandalm/cindywen/isoform_twas/genotype/all_data/isec_R2_greater_than_3/ancestry/test\")"
   ]
  },
  {
   "cell_type": "code",
   "execution_count": 14,
   "id": "d5207421",
   "metadata": {},
   "outputs": [
    {
     "data": {
      "text/plain": [
       "1-element Vector{DataFrame}:\n",
       " \u001b[1m2335×2 DataFrame\u001b[0m\n",
       "\u001b[1m  Row \u001b[0m│\u001b[1m MarkerName  \u001b[0m\u001b[1m P-value    \u001b[0m\n",
       "\u001b[1m      \u001b[0m│\u001b[90m String15    \u001b[0m\u001b[90m Float64    \u001b[0m\n",
       "──────┼─────────────────────────\n",
       "    1 │ rs7432782    0.201414\n",
       "    2 │ rs139709184  0.388068\n",
       "    3 │ rs34477108   0.401513\n",
       "    4 │ rs145694276  0.819095\n",
       "    5 │ rs147720068  0.185608\n",
       "    6 │ rs113031600  0.00783979\n",
       "    7 │ rs114147741  0.213251\n",
       "    8 │ rs75838046   0.00783979\n",
       "    9 │ rs144299676  0.017328\n",
       "   10 │ rs116432667  0.401513\n",
       "   11 │ rs139909159  0.213251\n",
       "  ⋮   │      ⋮           ⋮\n",
       " 2326 │ rs13086545   0.690578\n",
       " 2327 │ rs144343956  0.645121\n",
       " 2328 │ rs61627377   0.0213144\n",
       " 2329 │ rs2355707    0.0286512\n",
       " 2330 │ rs13092418   0.690578\n",
       " 2331 │ rs13097480   0.690578\n",
       " 2332 │ rs141383067  0.757877\n",
       " 2333 │ rs75945821   0.690578\n",
       " 2334 │ rs2883746    0.952376\n",
       " 2335 │ rs35071080   0.690578\n",
       "\u001b[36m               2314 rows omitted\u001b[0m"
      ]
     },
     "execution_count": 14,
     "metadata": {},
     "output_type": "execute_result"
    }
   ],
   "source": [
    "colocfiles = [CSV.read(\"/u/project/gandalm/cindywen/ipsych_gwas/figures/MST1R/ENSG00000164078.txt\", DataFrame; header = 1)]\n",
    "\n",
    "colocfiles"
   ]
  },
  {
   "cell_type": "code",
   "execution_count": 16,
   "id": "b6697386",
   "metadata": {},
   "outputs": [],
   "source": [
    "colocfiles = [innerjoin(df, ld.snp_info, on = :MarkerName => :snpid)\n",
    "                   for df in colocfiles]\n",
    "    colocfiles = DataFrame[colocfiles...]\n",
    "    GM.mungesumstats!(colocfiles)"
   ]
  },
  {
   "cell_type": "code",
   "execution_count": 17,
   "id": "e3fe1359",
   "metadata": {},
   "outputs": [
    {
     "data": {
      "text/plain": [
       "1-element Vector{DataFrame}:\n",
       " \u001b[1m2335×6 DataFrame\u001b[0m\n",
       "\u001b[1m  Row \u001b[0m│\u001b[1m SNP         \u001b[0m\u001b[1m CHR    \u001b[0m\u001b[1m BP       \u001b[0m\u001b[1m A1     \u001b[0m\u001b[1m A2     \u001b[0m\u001b[1m P          \u001b[0m\n",
       "\u001b[1m      \u001b[0m│\u001b[90m String15    \u001b[0m\u001b[90m String \u001b[0m\u001b[90m Int64    \u001b[0m\u001b[90m String \u001b[0m\u001b[90m String \u001b[0m\u001b[90m Float64    \u001b[0m\n",
       "──────┼───────────────────────────────────────────────────────────\n",
       "    1 │ rs7432782    3       48941551  C       T       0.201414\n",
       "    2 │ rs139709184  3       48941770  C       T       0.388068\n",
       "    3 │ rs34477108   3       48941782  G       A       0.401513\n",
       "    4 │ rs145694276  3       48941995  A       G       0.819095\n",
       "    5 │ rs147720068  3       48942581  T       C       0.185608\n",
       "    6 │ rs113031600  3       48944319  G       A       0.00783979\n",
       "    7 │ rs114147741  3       48944320  T       C       0.213251\n",
       "    8 │ rs75838046   3       48945835  T       G       0.00783979\n",
       "    9 │ rs144299676  3       48946130  T       C       0.017328\n",
       "   10 │ rs116432667  3       48947589  T       C       0.401513\n",
       "   11 │ rs139909159  3       48951152  C       T       0.213251\n",
       "  ⋮   │      ⋮         ⋮        ⋮        ⋮       ⋮         ⋮\n",
       " 2326 │ rs13086545   3       50937594  T       G       0.690578\n",
       " 2327 │ rs144343956  3       50937600  T       C       0.645121\n",
       " 2328 │ rs61627377   3       50937834  T       C       0.0213144\n",
       " 2329 │ rs2355707    3       50937957  G       A       0.0286512\n",
       " 2330 │ rs13092418   3       50938678  C       A       0.690578\n",
       " 2331 │ rs13097480   3       50939067  T       C       0.690578\n",
       " 2332 │ rs141383067  3       50939834  T       G       0.757877\n",
       " 2333 │ rs75945821   3       50939943  G       A       0.690578\n",
       " 2334 │ rs2883746    3       50940779  G       C       0.952376\n",
       " 2335 │ rs35071080   3       50940844  G       A       0.690578\n",
       "\u001b[36m                                                 2314 rows omitted\u001b[0m"
      ]
     },
     "execution_count": 17,
     "metadata": {},
     "output_type": "execute_result"
    }
   ],
   "source": [
    "colocfiles"
   ]
  },
  {
   "cell_type": "code",
   "execution_count": 18,
   "id": "f5a19fc3",
   "metadata": {},
   "outputs": [
    {
     "data": {
      "text/plain": [
       "5.0941306e7"
      ]
     },
     "execution_count": 18,
     "metadata": {},
     "output_type": "execute_result"
    }
   ],
   "source": [
    "chr, start, stop = GM.findgene(\"MST1R\", gencode)\n",
    "    range1 = start - 1e6\n",
    "    range2 = stop + 1e6"
   ]
  },
  {
   "cell_type": "code",
   "execution_count": 19,
   "id": "c0e8dc9b",
   "metadata": {},
   "outputs": [
    {
     "data": {
      "text/plain": [
       "(\"3\", 49924435, 49941306)"
      ]
     },
     "execution_count": 19,
     "metadata": {},
     "output_type": "execute_result"
    }
   ],
   "source": [
    "GM.findgene(\"MST1R\", gencode)"
   ]
  },
  {
   "cell_type": "code",
   "execution_count": 21,
   "id": "c72a86b6",
   "metadata": {},
   "outputs": [
    {
     "data": {
      "text/plain": [
       "SnpData(people: 629, snps: 2548,\n",
       "snp_info: \n",
       " Row │ chromosome  snpid        genetic_distance  position  allele1  allele2\n",
       "     │ String      String       Float64           Int64     String   String\n",
       "─────┼───────────────────────────────────────────────────────────────────────\n",
       "   1 │ 3           rs75218974                0.0  48925045  T        G\n",
       "   2 │ 3           rs140502640               0.0  48926161  T        C\n",
       "   3 │ 3           rs72930094                0.0  48928835  G        C\n",
       "   4 │ 3           rs115846927               0.0  48933300  T        C\n",
       "   5 │ 3           rs9882714                 0.0  48933482  C        A\n",
       "   6 │ 3           rs62259533                0.0  48934620  A        G\n",
       "…,\n",
       "person_info: \n",
       " Row │ fid        iid        father     mother     sex        phenotype\n",
       "     │ Abstract…  Abstract…  Abstract…  Abstract…  Abstract…  Abstract…\n",
       "─────┼──────────────────────────────────────────────────────────────────\n",
       "   1 │ 0          849        0          0          0          -9\n",
       "   2 │ 0          898        0          0          0          -9\n",
       "   3 │ 0          1038       0          0          0          -9\n",
       "   4 │ 0          1039       0          0          0          -9\n",
       "   5 │ 0          1046       0          0          0          -9\n",
       "   6 │ 0          1102       0          0          0          -9\n",
       "…,\n",
       "srcbed: /u/project/gandalm/cindywen/ipsych_gwas/figures/MST1R/ld.tmp.bed\n",
       "srcbim: /u/project/gandalm/cindywen/ipsych_gwas/figures/MST1R/ld.tmp.bim\n",
       "srcfam: /u/project/gandalm/cindywen/ipsych_gwas/figures/MST1R/ld.tmp.fam\n",
       ")"
      ]
     },
     "execution_count": 21,
     "metadata": {},
     "output_type": "execute_result"
    }
   ],
   "source": [
    "colinds = findall(row -> row.chromosome == chr &&\n",
    "                      range1 <= row.position <= range2,\n",
    "    eachrow(ld.snp_info))\n",
    "    SnpArrays.filter(ld, trues(size(ld)[1]), colinds;\n",
    "                         des = joinpath(\"/u/project/gandalm/cindywen/ipsych_gwas/figures/MST1R/\", \"ld.tmp\"))\n",
    "    ld = SnpData(joinpath(\"/u/project/gandalm/cindywen/ipsych_gwas/figures/MST1R/\", \"ld.tmp\"))"
   ]
  },
  {
   "cell_type": "code",
   "execution_count": 22,
   "id": "f840e2dc",
   "metadata": {},
   "outputs": [
    {
     "data": {
      "text/plain": [
       "\"ENSG00000164078.txt\""
      ]
     },
     "execution_count": 22,
     "metadata": {},
     "output_type": "execute_result"
    }
   ],
   "source": [
    "match(r\"[^_]*\", basename(\"/u/project/gandalm/cindywen/ipsych_gwas/figures/MST1R/ENSG00000164078.txt\")).match"
   ]
  },
  {
   "cell_type": "code",
   "execution_count": 23,
   "id": "02868922",
   "metadata": {},
   "outputs": [
    {
     "data": {
      "text/plain": [
       "coloc (generic function with 1 method)"
      ]
     },
     "execution_count": 23,
     "metadata": {},
     "output_type": "execute_result"
    }
   ],
   "source": [
    "# coloclocuszoom\n",
    "# saves LocusZoom style plot with PGC3 summary statistics and an array of provided eQTLs\n",
    "# @param gene::AbstractString - gene to visualize\n",
    "# @param colocfilenames::Array{<:AbstractString} - array of eQTL filenames to visualize\n",
    "# @param colocthresholds::Array{<:Real} - array of signficance thresholds\n",
    "# @param ldfilename::AbstractString - filename for the LD reference file\n",
    "# @param outpath::AbstractString - output path\n",
    "# @param outname::AbstractString - filename for output, without extension\n",
    "# @param snp::Union{AbstractString, Nothing} - optional SNP ID to visualize LD of\n",
    "# @return - Makie figure visualizing the LocusZoom plot\n",
    "# side effect - Saves image to <outpath>/<outname>.png\n",
    "function coloc(gene::AbstractString, colocfilenames::Array{<:AbstractString}, colocthresholds::Array{<:Real}, \n",
    "               ldfilename::AbstractString, outpath::AbstractString, outname::AbstractString;\n",
    "               snp::Union{AbstractString, Nothing} = nothing)\n",
    "    colocfiles = [CSV.read(file, DataFrame; header = 1) for file in colocfilenames]\n",
    "    ld = SnpData(ldfilename)\n",
    "    colocfiles = [innerjoin(df, ld.snp_info, on = :MarkerName => :snpid)\n",
    "                   for df in colocfiles]\n",
    "    colocfiles = DataFrame[colocfiles...]\n",
    "    GM.mungesumstats!(colocfiles)\n",
    "    chr, start, stop = GM.findgene(gene, gencode)\n",
    "    range1 = start - 1e6\n",
    "    range2 = stop + 1e6\n",
    "    colinds = findall(row -> row.chromosome == chr &&\n",
    "                      range1 <= row.position <= range2,\n",
    "    eachrow(ld.snp_info))\n",
    "    SnpArrays.filter(ld, trues(size(ld)[1]), colinds;\n",
    "                         des = joinpath(outpath, \"ld.tmp\"))\n",
    "    ld = SnpData(joinpath(outpath, \"ld.tmp\"))\n",
    "    f = Figure(resolution = (500, 1000))\n",
    "    n = length(colocfiles)\n",
    "    axs = [Axis(f[i,1]) for i in 1:(n+2)]\n",
    "    # Visualize eQTLs\n",
    "    for i in 1:n\n",
    "        title = match(r\"[^_]*\", basename(colocfilenames[i])).match\n",
    "        if isnothing(snp)\n",
    "            GM.plotlocus!(axs[i], chr, range1, range2, colocfiles[i], ld = ld)\n",
    "        else\n",
    "            GM.plotlocus!(axs[i], chr, range1, range2, colocfiles[i], ld = (ld, snp))\n",
    "        end\n",
    "        lines!(axs[i], [range1, range2], fill(colocthresholds[i], 2), color = (:purple, 0.5), linewidth = 0.5)\n",
    "        vlines!(axs[i], start, color = (:gold, 0.5), linewidth = 0.5)\n",
    "        vlines!(axs[i], stop, color = (:gold, 0.5), linewidth = 0.5)\n",
    "        Label(f[i, 1, Top()], title, textsize = 6, halign = :left, padding = (7.5, 0, -5, 0))\n",
    "        rowsize!(f.layout, i, 50)\n",
    "    end\n",
    "    # Visualize PGC3\n",
    "    ld = SnpData(joinpath(ldfolder, \"1000G.EUR.QC.$(chr)\"))\n",
    "    colinds = findall(row -> row.chromosome == chr &&\n",
    "                      range1 <= row.position <= range2,\n",
    "    eachrow(ld.snp_info))\n",
    "    SnpArrays.filter(ld, trues(size(ld)[1]), colinds;\n",
    "                         des = joinpath(outpath, \"ld.tmp\"))\n",
    "    ld = SnpData(joinpath(outpath, \"ld.tmp\"))\n",
    "    if isnothing(snp)\n",
    "        GM.plotlocus!(axs[n + 1], chr, range1, range2, sumstats, ld = ld)\n",
    "    else\n",
    "        GM.plotlocus!(axs[n + 1], chr, range1, range2, sumstats, ld = (ld, snp))\n",
    "    end\n",
    "    lines!(axs[n + 1], [range1, range2], fill(7.3, 2), color = (:purple, 0.5), linewidth = 0.5)\n",
    "    vlines!(axs[n + 1], start, color = (:gold, 0.5), linewidth = 0.5)\n",
    "    vlines!(axs[n + 1], stop, color = (:gold, 0.5), linewidth = 0.5)\n",
    "    Label(f[n + 1, 1, Top()], \"PGC3 SCZ\", textsize = 6, halign = :left, padding = (7.5, 0, -5, 0))\n",
    "    rowsize!(f.layout, n + 1, 30)\n",
    "    # Visualize genes\n",
    "    rs = GM.plotgenes!(axs[n + 2], chr, range1, range2, gencode)\n",
    "    vlines!(axs[n + 2], start, color = (:gold, 0.5), linewidth = 0.5)\n",
    "    vlines!(axs[n + 2], stop, color = (:gold, 0.5), linewidth = 0.5)\n",
    "    rowsize!(f.layout, n + 2, rs)\n",
    "    Colorbar(f[1:(n+1), 2], limits = (0, 1), ticks = 0:1:1, height = 20,\n",
    "        colormap = (:gray60, :red2), label = \"LD\", ticksize = 0, tickwidth = 0,\n",
    "        tickalign = 0, ticklabelsize = 6, flip_vertical_label = true,\n",
    "        labelsize = 6, width = 5, spinewidth = 0.5)\n",
    "    GM.labelgenome(f[n + 2, 1, Bottom()], chr, range1, range2)\n",
    "    Label(f[1:(n + 1), 0], text = \"-log[p]\", textsize = 6, rotation = pi / 2)\n",
    "    rowgap!(f.layout, 5)\n",
    "    rowgap!(f.layout, 5)\n",
    "    resize_to_layout!(f)\n",
    "    save(joinpath(outpath, outname * \".png\"), f, px_per_unit = 4)\n",
    "    return f\n",
    "end"
   ]
  },
  {
   "cell_type": "code",
   "execution_count": 24,
   "id": "1497a20a",
   "metadata": {},
   "outputs": [
    {
     "ename": "LoadError",
     "evalue": "UndefVarError: ldfolder not defined",
     "output_type": "error",
     "traceback": [
      "UndefVarError: ldfolder not defined",
      "",
      "Stacktrace:",
      " [1] coloc(gene::String, colocfilenames::Vector{String}, colocthresholds::Vector{Int64}, ldfilename::String, outpath::String, outname::String; snp::String)",
      "   @ Main ./In[23]:48",
      " [2] top-level scope",
      "   @ In[24]:1",
      " [3] eval",
      "   @ ./boot.jl:360 [inlined]",
      " [4] include_string(mapexpr::typeof(REPL.softscope), mod::Module, code::String, filename::String)",
      "   @ Base ./loading.jl:1116"
     ]
    }
   ],
   "source": [
    "coloc(\"MST1R\",\n",
    "      [\"/u/project/gandalm/cindywen/ipsych_gwas/figures/MST1R/ENSG00000164078.txt\"],\n",
    "      [3],\n",
    "      \"/u/project/gandalm/cindywen/isoform_twas/genotype/all_data/isec_R2_greater_than_3/ancestry/test\",\n",
    "      \"/u/project/gandalm/cindywen/ipsych_gwas/figures/MST1R/\",\n",
    "      \"MST1R\"; snp = \"rs2681780\")"
   ]
  },
  {
   "cell_type": "code",
   "execution_count": null,
   "id": "2a4306a8",
   "metadata": {},
   "outputs": [],
   "source": []
  }
 ],
 "metadata": {
  "kernelspec": {
   "display_name": "Julia 1.6.5",
   "language": "julia",
   "name": "julia-1.6"
  },
  "language_info": {
   "file_extension": ".jl",
   "mimetype": "application/julia",
   "name": "julia",
   "version": "1.6.5"
  }
 },
 "nbformat": 4,
 "nbformat_minor": 5
}
